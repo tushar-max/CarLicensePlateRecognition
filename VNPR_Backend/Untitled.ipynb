{
 "cells": [
  {
   "cell_type": "code",
   "execution_count": 1,
   "metadata": {},
   "outputs": [
    {
     "data": {
      "text/plain": [
       "<pymongo.results.DeleteResult at 0x1accfd6b5e0>"
      ]
     },
     "execution_count": 1,
     "metadata": {},
     "output_type": "execute_result"
    }
   ],
   "source": [
    "import db\n",
    "\n",
    "collection = db.connectToDataBase()\n",
    "\n",
    "collection.delete_many({})"
   ]
  },
  {
   "cell_type": "code",
   "execution_count": 7,
   "metadata": {},
   "outputs": [
    {
     "name": "stdout",
     "output_type": "stream",
     "text": [
      "[{'_id': ObjectId('6537cc3aaf8b20febc8650c9'), 'license_plate_text': 'FUL IC527971', 'entryPoint': '19:22:46 October 24, 2023'}, {'_id': ObjectId('6537cc55af8b20febc8650cb'), 'license_plate_text': 'HR81821711', 'entryPoint': '19:23:13 October 24, 2023'}, {'_id': ObjectId('6537cc71af8b20febc8650cd'), 'license_plate_text': 'Hr260h6791', 'entryPoint': '19:23:41 October 24, 2023'}, {'_id': ObjectId('6537cc92af8b20febc8650cf'), 'license_plate_text': 'HR 980,56ky', 'entryPoint': '19:24:13 October 24, 2023'}, {'_id': ObjectId('6537cca5af8b20febc8650d1'), 'license_plate_text': 'FUPBG4AL6752', 'entryPoint': '19:24:33 October 24, 2023'}, {'_id': ObjectId('6537ccbcaf8b20febc8650d3'), 'license_plate_text': '{822seyg163', 'entryPoint': '19:24:55 October 24, 2023'}, {'_id': ObjectId('6537ccddaf8b20febc8650d5'), 'license_plate_text': 'DL SCE590]', 'entryPoint': '19:25:29 October 24, 2023'}]\n"
     ]
    }
   ],
   "source": [
    "print(list(db.findAll()))"
   ]
  },
  {
   "cell_type": "code",
   "execution_count": null,
   "metadata": {},
   "outputs": [],
   "source": []
  }
 ],
 "metadata": {
  "kernelspec": {
   "display_name": "Python 3",
   "language": "python",
   "name": "python3"
  },
  "language_info": {
   "codemirror_mode": {
    "name": "ipython",
    "version": 3
   },
   "file_extension": ".py",
   "mimetype": "text/x-python",
   "name": "python",
   "nbconvert_exporter": "python",
   "pygments_lexer": "ipython3",
   "version": "3.11.5"
  }
 },
 "nbformat": 4,
 "nbformat_minor": 2
}
